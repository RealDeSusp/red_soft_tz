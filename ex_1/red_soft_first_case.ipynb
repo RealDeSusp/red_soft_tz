{
  "nbformat": 4,
  "nbformat_minor": 0,
  "metadata": {
    "colab": {
      "provenance": []
    },
    "kernelspec": {
      "name": "python3",
      "display_name": "Python 3"
    },
    "language_info": {
      "name": "python"
    }
  },
  "cells": [
    {
      "cell_type": "markdown",
      "source": [
        "Тест кейс 1"
      ],
      "metadata": {
        "id": "i6qEkSVEIIpA"
      }
    },
    {
      "cell_type": "code",
      "execution_count": 14,
      "metadata": {
        "id": "cAbsQOtsE1qU"
      },
      "outputs": [],
      "source": [
        "from datetime import datetime"
      ]
    },
    {
      "cell_type": "code",
      "source": [
        "# функция обработки фактического и запланированного времени прибытия самолёта\n",
        "def check_flight_status(schedule_time, actual_time):\n",
        "    '''\n",
        "    Проверяет статус прибытия самолета по расписанию.\n",
        "\n",
        "    Параметры:\n",
        "    - schedule_time (str): Время прибытия самолета по расписанию в формате ЧЧ:ММ.\n",
        "    - actual_time (str): Фактическое время прибытия самолета в аэропорт в формате ЧЧ:ММ.\n",
        "\n",
        "    Возвращаемое значение:\n",
        "    - str: Текстовая информация о статусе рейса и времени задержки/опережения.\n",
        "    '''\n",
        "\n",
        "    # Преобразование строк в объекты datetime\n",
        "    schedule_datetime = datetime.strptime(schedule_time, '%H:%M')\n",
        "    actual_datetime = datetime.strptime(actual_time, '%H:%M')\n",
        "\n",
        "    # Проверка статуса рейса\n",
        "    if actual_datetime > schedule_datetime:\n",
        "        delay = actual_datetime - schedule_datetime\n",
        "        return f\"Самолет опаздывает. Задержка: {delay}\"\n",
        "    elif actual_datetime < schedule_datetime:\n",
        "        ahead = schedule_datetime - actual_datetime\n",
        "        return f\"Самолет прилетел раньше. Опережение: {ahead}\"\n",
        "    else:\n",
        "        return \"Самолет прилетел вовремя\""
      ],
      "metadata": {
        "id": "gAEcDgjHH7Io"
      },
      "execution_count": 15,
      "outputs": []
    },
    {
      "cell_type": "markdown",
      "source": [
        "Первые три случая - стандартные, предусмотренные алгоритмом: явное опоздание, явно опережение, прибытие воверемя."
      ],
      "metadata": {
        "id": "4P3MJlRUGe6I"
      }
    },
    {
      "cell_type": "code",
      "source": [
        "# Пример использования функции. Тест №1\n",
        "schedule_time = \"15:30\"\n",
        "actual_time = \"15:30\"\n",
        "\n",
        "result = check_flight_status(schedule_time, actual_time)\n",
        "print(result)"
      ],
      "metadata": {
        "colab": {
          "base_uri": "https://localhost:8080/"
        },
        "id": "1yFjczX4FAx0",
        "outputId": "2e68e8a7-8f3a-4867-d64f-33ff22a152a8"
      },
      "execution_count": 16,
      "outputs": [
        {
          "output_type": "stream",
          "name": "stdout",
          "text": [
            "Самолет прилетел вовремя\n"
          ]
        }
      ]
    },
    {
      "cell_type": "code",
      "source": [
        "# тест №2\n",
        "schedule_time = \"18:00\"\n",
        "actual_time = \"15:40\"\n",
        "\n",
        "result = check_flight_status(schedule_time, actual_time)\n",
        "print(result)"
      ],
      "metadata": {
        "colab": {
          "base_uri": "https://localhost:8080/"
        },
        "id": "DPNhQ4OlF-si",
        "outputId": "fd9a9f55-4175-40dc-a9ba-658a91b75b10"
      },
      "execution_count": 17,
      "outputs": [
        {
          "output_type": "stream",
          "name": "stdout",
          "text": [
            "Самолет прилетел раньше. Опережение: 2:20:00\n"
          ]
        }
      ]
    },
    {
      "cell_type": "code",
      "source": [
        "# тест №3\n",
        "schedule_time = \"13:30\"\n",
        "actual_time = \"15:59\"\n",
        "\n",
        "result = check_flight_status(schedule_time, actual_time)\n",
        "print(result)"
      ],
      "metadata": {
        "colab": {
          "base_uri": "https://localhost:8080/"
        },
        "id": "-MqCGyehF_Gm",
        "outputId": "0e6f2d4c-bb46-47b1-ce5e-39998d478a7d"
      },
      "execution_count": 18,
      "outputs": [
        {
          "output_type": "stream",
          "name": "stdout",
          "text": [
            "Самолет опаздывает. Задержка: 2:29:00\n"
          ]
        }
      ]
    },
    {
      "cell_type": "markdown",
      "source": [
        "Однако из-за того, что в нашем распоряжении есть только часы и минуты, мы не можем работать с датами. Это приводит к такой проблеме, как неопределённое опоздание. В примере ниже самолёт должен прилететь в 00:00, а прилетает в 23:59. Встаёт вопрос, как это обрабатывать? Как опоздание на 23:59 или как опережение на 1 минуту?"
      ],
      "metadata": {
        "id": "kH5YZM22GqE0"
      }
    },
    {
      "cell_type": "code",
      "source": [
        "# тест №4\n",
        "schedule_time = \"00:00\"\n",
        "actual_time = \"23:59\"\n",
        "\n",
        "result = check_flight_status(schedule_time, actual_time)\n",
        "print(result)"
      ],
      "metadata": {
        "colab": {
          "base_uri": "https://localhost:8080/"
        },
        "id": "zYNLKgqBF_gl",
        "outputId": "8b7a07ae-14b3-475d-d642-87b0b5ff28f1"
      },
      "execution_count": 19,
      "outputs": [
        {
          "output_type": "stream",
          "name": "stdout",
          "text": [
            "Самолет опаздывает. Задержка: 23:59:00\n"
          ]
        }
      ]
    },
    {
      "cell_type": "markdown",
      "source": [
        "Второй пример той же проблемы. Самолёт должен прилететь в 22:45, а прилетает в 1:00. Это опережение на 21:45 или опоздание на 2:15? И что самое интересное, из-за отсутствия даты, мы не можем нормально обработать эту проблему. Даже если изменить принцип работы алгоритма, проблема никуда не денется."
      ],
      "metadata": {
        "id": "ikYT47wkHOjq"
      }
    },
    {
      "cell_type": "code",
      "source": [
        "# тест №5\n",
        "schedule_time = \"22:45\"\n",
        "actual_time = \"01:00\"\n",
        "\n",
        "result = check_flight_status(schedule_time, actual_time)\n",
        "print(result)"
      ],
      "metadata": {
        "colab": {
          "base_uri": "https://localhost:8080/"
        },
        "id": "SHIZ2mqwF_tc",
        "outputId": "b9363c26-db35-4be2-971c-e93ceaf40d3c"
      },
      "execution_count": 20,
      "outputs": [
        {
          "output_type": "stream",
          "name": "stdout",
          "text": [
            "Самолет прилетел раньше. Опережение: 21:45:00\n"
          ]
        }
      ]
    }
  ]
}